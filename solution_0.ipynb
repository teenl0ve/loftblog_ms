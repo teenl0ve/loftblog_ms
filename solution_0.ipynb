{
 "cells": [
  {
   "cell_type": "code",
   "execution_count": 2,
   "metadata": {},
   "outputs": [
    {
     "name": "stdout",
     "output_type": "stream",
     "text": [
      "Defaulting to user installation because normal site-packages is not writeable\n",
      "Requirement already satisfied: matplotlib in /Users/teenl0ve/Library/Python/3.9/lib/python/site-packages (from -r requirements.txt (line 1)) (3.5.3)\n",
      "Requirement already satisfied: numpy in /Users/teenl0ve/Library/Python/3.9/lib/python/site-packages (from -r requirements.txt (line 2)) (1.23.4)\n",
      "Requirement already satisfied: pandas in /Users/teenl0ve/Library/Python/3.9/lib/python/site-packages (from -r requirements.txt (line 3)) (1.5.1)\n",
      "Requirement already satisfied: seaborn in /Users/teenl0ve/Library/Python/3.9/lib/python/site-packages (from -r requirements.txt (line 4)) (0.12.1)\n",
      "Requirement already satisfied: scikit-learn in /Users/teenl0ve/Library/Python/3.9/lib/python/site-packages (from -r requirements.txt (line 5)) (1.1.3)\n",
      "Requirement already satisfied: lightgbm in /Users/teenl0ve/Library/Python/3.9/lib/python/site-packages (from -r requirements.txt (line 6)) (3.3.3)\n",
      "Requirement already satisfied: pillow>=6.2.0 in /Users/teenl0ve/Library/Python/3.9/lib/python/site-packages (from matplotlib->-r requirements.txt (line 1)) (9.2.0)\n",
      "Requirement already satisfied: python-dateutil>=2.7 in /Users/teenl0ve/Library/Python/3.9/lib/python/site-packages (from matplotlib->-r requirements.txt (line 1)) (2.8.2)\n",
      "Requirement already satisfied: packaging>=20.0 in /Users/teenl0ve/Library/Python/3.9/lib/python/site-packages (from matplotlib->-r requirements.txt (line 1)) (21.3)\n",
      "Requirement already satisfied: cycler>=0.10 in /Users/teenl0ve/Library/Python/3.9/lib/python/site-packages (from matplotlib->-r requirements.txt (line 1)) (0.11.0)\n",
      "Requirement already satisfied: kiwisolver>=1.0.1 in /Users/teenl0ve/Library/Python/3.9/lib/python/site-packages (from matplotlib->-r requirements.txt (line 1)) (1.4.4)\n",
      "Requirement already satisfied: fonttools>=4.22.0 in /Users/teenl0ve/Library/Python/3.9/lib/python/site-packages (from matplotlib->-r requirements.txt (line 1)) (4.38.0)\n",
      "Requirement already satisfied: pyparsing>=2.2.1 in /Users/teenl0ve/Library/Python/3.9/lib/python/site-packages (from matplotlib->-r requirements.txt (line 1)) (3.0.9)\n",
      "Requirement already satisfied: pytz>=2020.1 in /Users/teenl0ve/Library/Python/3.9/lib/python/site-packages (from pandas->-r requirements.txt (line 3)) (2022.5)\n",
      "Requirement already satisfied: joblib>=1.0.0 in /Users/teenl0ve/Library/Python/3.9/lib/python/site-packages (from scikit-learn->-r requirements.txt (line 5)) (1.2.0)\n",
      "Requirement already satisfied: scipy>=1.3.2 in /Users/teenl0ve/Library/Python/3.9/lib/python/site-packages (from scikit-learn->-r requirements.txt (line 5)) (1.9.3)\n",
      "Requirement already satisfied: threadpoolctl>=2.0.0 in /Users/teenl0ve/Library/Python/3.9/lib/python/site-packages (from scikit-learn->-r requirements.txt (line 5)) (3.1.0)\n",
      "Requirement already satisfied: wheel in /Library/Developer/CommandLineTools/Library/Frameworks/Python3.framework/Versions/3.9/lib/python3.9/site-packages (from lightgbm->-r requirements.txt (line 6)) (0.37.0)\n",
      "Requirement already satisfied: six>=1.5 in /Library/Developer/CommandLineTools/Library/Frameworks/Python3.framework/Versions/3.9/lib/python3.9/site-packages (from python-dateutil>=2.7->matplotlib->-r requirements.txt (line 1)) (1.15.0)\n",
      "\n",
      "\u001b[1m[\u001b[0m\u001b[34;49mnotice\u001b[0m\u001b[1;39;49m]\u001b[0m\u001b[39;49m A new release of pip available: \u001b[0m\u001b[31;49m22.3.1\u001b[0m\u001b[39;49m -> \u001b[0m\u001b[32;49m23.0\u001b[0m\n",
      "\u001b[1m[\u001b[0m\u001b[34;49mnotice\u001b[0m\u001b[1;39;49m]\u001b[0m\u001b[39;49m To update, run: \u001b[0m\u001b[32;49m/Library/Developer/CommandLineTools/usr/bin/python3 -m pip install --upgrade pip\u001b[0m\n"
     ]
    }
   ],
   "source": [
    "!pip3 install -r requirements.txt"
   ]
  },
  {
   "cell_type": "code",
   "execution_count": 3,
   "metadata": {},
   "outputs": [],
   "source": [
    "from matplotlib import pyplot as plt\n",
    "import numpy as np\n",
    "import pandas as pd\n",
    "import seaborn as sns\n",
    "import time\n",
    "from sklearn.model_selection import StratifiedKFold\n",
    "from sklearn.metrics import accuracy_score\n",
    "from sklearn.preprocessing import StandardScaler, OneHotEncoder\n",
    "from sklearn.compose import ColumnTransformer\n",
    "from lightgbm import LGBMClassifier\n",
    "import warnings\n",
    "\n",
    "warnings.filterwarnings(\"ignore\")"
   ]
  },
  {
   "cell_type": "code",
   "execution_count": 4,
   "metadata": {},
   "outputs": [],
   "source": [
    "train = pd.read_csv(\"titanic/train.csv\")\n",
    "test = pd.read_csv(\"titanic/test.csv\")"
   ]
  },
  {
   "cell_type": "code",
   "execution_count": 5,
   "metadata": {},
   "outputs": [
    {
     "data": {
      "text/html": [
       "<div>\n",
       "<style scoped>\n",
       "    .dataframe tbody tr th:only-of-type {\n",
       "        vertical-align: middle;\n",
       "    }\n",
       "\n",
       "    .dataframe tbody tr th {\n",
       "        vertical-align: top;\n",
       "    }\n",
       "\n",
       "    .dataframe thead th {\n",
       "        text-align: right;\n",
       "    }\n",
       "</style>\n",
       "<table border=\"1\" class=\"dataframe\">\n",
       "  <thead>\n",
       "    <tr style=\"text-align: right;\">\n",
       "      <th></th>\n",
       "      <th>PassengerId</th>\n",
       "      <th>Survived</th>\n",
       "      <th>Pclass</th>\n",
       "      <th>Name</th>\n",
       "      <th>Sex</th>\n",
       "      <th>Age</th>\n",
       "      <th>SibSp</th>\n",
       "      <th>Parch</th>\n",
       "      <th>Ticket</th>\n",
       "      <th>Fare</th>\n",
       "      <th>Cabin</th>\n",
       "      <th>Embarked</th>\n",
       "    </tr>\n",
       "  </thead>\n",
       "  <tbody>\n",
       "    <tr>\n",
       "      <th>0</th>\n",
       "      <td>1</td>\n",
       "      <td>0</td>\n",
       "      <td>3</td>\n",
       "      <td>Braund, Mr. Owen Harris</td>\n",
       "      <td>male</td>\n",
       "      <td>22.0</td>\n",
       "      <td>1</td>\n",
       "      <td>0</td>\n",
       "      <td>A/5 21171</td>\n",
       "      <td>7.2500</td>\n",
       "      <td>NaN</td>\n",
       "      <td>S</td>\n",
       "    </tr>\n",
       "    <tr>\n",
       "      <th>1</th>\n",
       "      <td>2</td>\n",
       "      <td>1</td>\n",
       "      <td>1</td>\n",
       "      <td>Cumings, Mrs. John Bradley (Florence Briggs Th...</td>\n",
       "      <td>female</td>\n",
       "      <td>38.0</td>\n",
       "      <td>1</td>\n",
       "      <td>0</td>\n",
       "      <td>PC 17599</td>\n",
       "      <td>71.2833</td>\n",
       "      <td>C85</td>\n",
       "      <td>C</td>\n",
       "    </tr>\n",
       "    <tr>\n",
       "      <th>2</th>\n",
       "      <td>3</td>\n",
       "      <td>1</td>\n",
       "      <td>3</td>\n",
       "      <td>Heikkinen, Miss. Laina</td>\n",
       "      <td>female</td>\n",
       "      <td>26.0</td>\n",
       "      <td>0</td>\n",
       "      <td>0</td>\n",
       "      <td>STON/O2. 3101282</td>\n",
       "      <td>7.9250</td>\n",
       "      <td>NaN</td>\n",
       "      <td>S</td>\n",
       "    </tr>\n",
       "    <tr>\n",
       "      <th>3</th>\n",
       "      <td>4</td>\n",
       "      <td>1</td>\n",
       "      <td>1</td>\n",
       "      <td>Futrelle, Mrs. Jacques Heath (Lily May Peel)</td>\n",
       "      <td>female</td>\n",
       "      <td>35.0</td>\n",
       "      <td>1</td>\n",
       "      <td>0</td>\n",
       "      <td>113803</td>\n",
       "      <td>53.1000</td>\n",
       "      <td>C123</td>\n",
       "      <td>S</td>\n",
       "    </tr>\n",
       "    <tr>\n",
       "      <th>4</th>\n",
       "      <td>5</td>\n",
       "      <td>0</td>\n",
       "      <td>3</td>\n",
       "      <td>Allen, Mr. William Henry</td>\n",
       "      <td>male</td>\n",
       "      <td>35.0</td>\n",
       "      <td>0</td>\n",
       "      <td>0</td>\n",
       "      <td>373450</td>\n",
       "      <td>8.0500</td>\n",
       "      <td>NaN</td>\n",
       "      <td>S</td>\n",
       "    </tr>\n",
       "  </tbody>\n",
       "</table>\n",
       "</div>"
      ],
      "text/plain": [
       "   PassengerId  Survived  Pclass  \\\n",
       "0            1         0       3   \n",
       "1            2         1       1   \n",
       "2            3         1       3   \n",
       "3            4         1       1   \n",
       "4            5         0       3   \n",
       "\n",
       "                                                Name     Sex   Age  SibSp  \\\n",
       "0                            Braund, Mr. Owen Harris    male  22.0      1   \n",
       "1  Cumings, Mrs. John Bradley (Florence Briggs Th...  female  38.0      1   \n",
       "2                             Heikkinen, Miss. Laina  female  26.0      0   \n",
       "3       Futrelle, Mrs. Jacques Heath (Lily May Peel)  female  35.0      1   \n",
       "4                           Allen, Mr. William Henry    male  35.0      0   \n",
       "\n",
       "   Parch            Ticket     Fare Cabin Embarked  \n",
       "0      0         A/5 21171   7.2500   NaN        S  \n",
       "1      0          PC 17599  71.2833   C85        C  \n",
       "2      0  STON/O2. 3101282   7.9250   NaN        S  \n",
       "3      0            113803  53.1000  C123        S  \n",
       "4      0            373450   8.0500   NaN        S  "
      ]
     },
     "execution_count": 5,
     "metadata": {},
     "output_type": "execute_result"
    }
   ],
   "source": [
    "train.head()"
   ]
  },
  {
   "cell_type": "code",
   "execution_count": 6,
   "metadata": {},
   "outputs": [],
   "source": [
    "train_y = train[[\"Survived\"]]"
   ]
  },
  {
   "cell_type": "code",
   "execution_count": 7,
   "metadata": {},
   "outputs": [],
   "source": [
    "train[\"FamilySize\"] = train[\"Parch\"] + train[\"SibSp\"] + 1\n",
    "train[\"Alone\"] = train[\"FamilySize\"].map(lambda s: 1 if s == 1 else 0)\n",
    "test[\"FamilySize\"] = test[\"Parch\"] + train[\"SibSp\"] + 1\n",
    "test[\"Alone\"] = test[\"FamilySize\"].map(lambda s: 1 if s == 1 else 0)"
   ]
  },
  {
   "cell_type": "code",
   "execution_count": 8,
   "metadata": {},
   "outputs": [],
   "source": [
    "train[\"Sex\"] = train[\"Sex\"].map({\"male\": 1, \"female\": 0})\n",
    "test[\"Sex\"] = test[\"Sex\"].map({\"male\": 1, \"female\": 0})"
   ]
  },
  {
   "cell_type": "code",
   "execution_count": 28,
   "metadata": {},
   "outputs": [
    {
     "data": {
      "image/png": "[encoded data removed]",
      "text/plain": [
       "<Figure size 1000x2000 with 4 Axes>"
      ]
     },
     "metadata": {},
     "output_type": "display_data"
    }
   ],
   "source": [
    "exp_feature = [\"Fare\", \"Age\"]\n",
    "fig = plt.figure(figsize=(10, 20))\n",
    "for i, var_name in enumerate(exp_feature):\n",
    "    ax = fig.add_subplot(5, 2, 2 * i + 1)\n",
    "    sns.histplot(data=train, x=var_name, axes=ax, bins=30, kde=False, hue=\"Survived\")\n",
    "    ax.set_title(var_name)\n",
    "\n",
    "    ax = fig.add_subplot(5, 2, 2 * i + 2)\n",
    "    sns.histplot(\n",
    "        data=np.log10(1 + train[[var_name]]).join(train[[\"Survived\"]]),\n",
    "        x=var_name,\n",
    "        axes=ax,\n",
    "        bins=30,\n",
    "        kde=True,\n",
    "        hue=\"Survived\"\n",
    "    )\n",
    "    ax.set_title(var_name + \"_log\")\n",
    "fig.tight_layout()\n",
    "plt.show()"
   ]
  },
  {
   "cell_type": "code",
   "execution_count": 9,
   "metadata": {},
   "outputs": [],
   "source": [
    "train[[\"Fare_log\"]] = np.log10(1 + train[[\"Fare\"]])\n",
    "train = train.drop(columns=[\"Fare\"])\n",
    "test[[\"Fare_log\"]] = np.log10(1 + test[[\"Fare\"]])\n",
    "test = test.drop(columns={\"Fare\"})"
   ]
  },
  {
   "cell_type": "code",
   "execution_count": 10,
   "metadata": {},
   "outputs": [],
   "source": [
    "train = train.drop(columns=['Survived'])"
   ]
  },
  {
   "cell_type": "code",
   "execution_count": 11,
   "metadata": {},
   "outputs": [
    {
     "data": {
      "text/html": [
       "<div>\n",
       "<style scoped>\n",
       "    .dataframe tbody tr th:only-of-type {\n",
       "        vertical-align: middle;\n",
       "    }\n",
       "\n",
       "    .dataframe tbody tr th {\n",
       "        vertical-align: top;\n",
       "    }\n",
       "\n",
       "    .dataframe thead th {\n",
       "        text-align: right;\n",
       "    }\n",
       "</style>\n",
       "<table border=\"1\" class=\"dataframe\">\n",
       "  <thead>\n",
       "    <tr style=\"text-align: right;\">\n",
       "      <th></th>\n",
       "      <th>corr</th>\n",
       "      <th>abs_corr</th>\n",
       "    </tr>\n",
       "  </thead>\n",
       "  <tbody>\n",
       "    <tr>\n",
       "      <th>Sex</th>\n",
       "      <td>-0.543351</td>\n",
       "      <td>0.543351</td>\n",
       "    </tr>\n",
       "    <tr>\n",
       "      <th>Pclass</th>\n",
       "      <td>-0.339668</td>\n",
       "      <td>0.339668</td>\n",
       "    </tr>\n",
       "    <tr>\n",
       "      <th>Fare_log</th>\n",
       "      <td>0.323736</td>\n",
       "      <td>0.323736</td>\n",
       "    </tr>\n",
       "    <tr>\n",
       "      <th>Alone</th>\n",
       "      <td>-0.203367</td>\n",
       "      <td>0.203367</td>\n",
       "    </tr>\n",
       "    <tr>\n",
       "      <th>FamilySize</th>\n",
       "      <td>0.165463</td>\n",
       "      <td>0.165463</td>\n",
       "    </tr>\n",
       "    <tr>\n",
       "      <th>Parch</th>\n",
       "      <td>0.138266</td>\n",
       "      <td>0.138266</td>\n",
       "    </tr>\n",
       "    <tr>\n",
       "      <th>SibSp</th>\n",
       "      <td>0.088879</td>\n",
       "      <td>0.088879</td>\n",
       "    </tr>\n",
       "    <tr>\n",
       "      <th>Age</th>\n",
       "      <td>-0.052565</td>\n",
       "      <td>0.052565</td>\n",
       "    </tr>\n",
       "    <tr>\n",
       "      <th>PassengerId</th>\n",
       "      <td>-0.005007</td>\n",
       "      <td>0.005007</td>\n",
       "    </tr>\n",
       "  </tbody>\n",
       "</table>\n",
       "</div>"
      ],
      "text/plain": [
       "                 corr  abs_corr\n",
       "Sex         -0.543351  0.543351\n",
       "Pclass      -0.339668  0.339668\n",
       "Fare_log     0.323736  0.323736\n",
       "Alone       -0.203367  0.203367\n",
       "FamilySize   0.165463  0.165463\n",
       "Parch        0.138266  0.138266\n",
       "SibSp        0.088879  0.088879\n",
       "Age         -0.052565  0.052565\n",
       "PassengerId -0.005007  0.005007"
      ]
     },
     "execution_count": 11,
     "metadata": {},
     "output_type": "execute_result"
    }
   ],
   "source": [
    "spearman_corr_with_target = (\n",
    "    train.corrwith(train_y[\"Survived\"], method=\"spearman\")\n",
    "    .to_frame()\n",
    "    .rename(columns={0: \"corr\"})\n",
    "    .join(\n",
    "        train.corrwith(train_y[\"Survived\"], method=\"spearman\")\n",
    "        .to_frame()\n",
    "        .abs()\n",
    "        .rename(columns={0: \"abs_corr\"})\n",
    "    )\n",
    ").sort_values(\"abs_corr\", ascending=False)\n",
    "spearman_corr_with_target.head(10)"
   ]
  },
  {
   "cell_type": "code",
   "execution_count": 12,
   "metadata": {},
   "outputs": [],
   "source": [
    "def plot_scores(scores, name):\n",
    "    scores = scores.sort_values(ascending=True)\n",
    "    width = np.arange(len(scores))\n",
    "    ticks = list(scores.index)\n",
    "    plt.barh(width, scores)\n",
    "    plt.yticks(width, ticks)\n",
    "    plt.title(name)"
   ]
  },
  {
   "cell_type": "code",
   "execution_count": 13,
   "metadata": {},
   "outputs": [
    {
     "data": {
      "image/png": "[encoded data removed]",
      "text/plain": [
       "<Figure size 800x800 with 1 Axes>"
      ]
     },
     "metadata": {},
     "output_type": "display_data"
    }
   ],
   "source": [
    "plt.figure(dpi=100, figsize=(8, 8))\n",
    "plt.rcParams.update({\"font.size\":10})\n",
    "plot_scores(spearman_corr_with_target.abs_corr, \"Spearman correlation\")"
   ]
  },
  {
   "cell_type": "code",
   "execution_count": 14,
   "metadata": {},
   "outputs": [
    {
     "data": {
      "text/plain": [
       "['Sex', 'Pclass', 'Fare_log', 'Alone', 'FamilySize', 'Parch', 'SibSp', 'Age']"
      ]
     },
     "execution_count": 14,
     "metadata": {},
     "output_type": "execute_result"
    }
   ],
   "source": [
    "features = spearman_corr_with_target[\n",
    "    spearman_corr_with_target.abs_corr > 0.03\n",
    "].index.to_list()\n",
    "features"
   ]
  },
  {
   "cell_type": "code",
   "execution_count": 15,
   "metadata": {},
   "outputs": [],
   "source": [
    "X = train[features]\n",
    "X_test = test[features]"
   ]
  },
  {
   "cell_type": "code",
   "execution_count": 16,
   "metadata": {},
   "outputs": [],
   "source": [
    "numerical_cols = [\n",
    "    cname for cname in X.columns if X[cname].dtype in [\"int64\", \"float64\"]\n",
    "]\n",
    "categorical_cols = [cname for cname in X.columns if X[cname].dtype == \"object\"]\n"
   ]
  },
  {
   "cell_type": "code",
   "execution_count": 17,
   "metadata": {},
   "outputs": [],
   "source": [
    "from sklearn.pipeline import Pipeline\n",
    "numerical_transformer = Pipeline(steps=[(\"scaler\", StandardScaler())])\n",
    "\n",
    "categorical_transformer = Pipeline(\n",
    "    steps=[\n",
    "        (\n",
    "            \"onehot\",\n",
    "            OneHotEncoder(drop=\"if_binary\", handle_unknown=\"ignore\", sparse=False)\n",
    "        )\n",
    "    ]\n",
    ")"
   ]
  },
  {
   "cell_type": "code",
   "execution_count": 18,
   "metadata": {},
   "outputs": [],
   "source": [
    "ct = ColumnTransformer(\n",
    "    transformers=[\n",
    "        (\"num\", numerical_transformer, numerical_cols),\n",
    "        (\"cat\", categorical_transformer, categorical_cols),\n",
    "    ],\n",
    "    remainder=\"passthrough\"\n",
    ")"
   ]
  },
  {
   "cell_type": "code",
   "execution_count": 19,
   "metadata": {},
   "outputs": [],
   "source": [
    "X = ct.fit_transform(X)\n",
    "X_test = ct.fit_transform(X_test)"
   ]
  },
  {
   "cell_type": "code",
   "execution_count": 20,
   "metadata": {},
   "outputs": [
    {
     "name": "stdout",
     "output_type": "stream",
     "text": [
      "Training set shape:  (891, 8)\n"
     ]
    }
   ],
   "source": [
    "print(\"Training set shape: \", X.shape)"
   ]
  },
  {
   "cell_type": "code",
   "execution_count": 21,
   "metadata": {},
   "outputs": [],
   "source": [
    "classifiers = {\n",
    "    \"LGBM\": LGBMClassifier(\n",
    "        learning_rate=0.1, max_depth=2, n_estimators=50, random_state=0\n",
    "    ),\n",
    "}"
   ]
  },
  {
   "cell_type": "code",
   "execution_count": 22,
   "metadata": {},
   "outputs": [],
   "source": [
    "FOLDS = 5\n",
    "y = train_y.values"
   ]
  },
  {
   "cell_type": "code",
   "execution_count": 23,
   "metadata": {},
   "outputs": [],
   "source": [
    "preds = np.zeros(len(X_test))\n",
    "preds_train = np.zeros(len(X))"
   ]
  },
  {
   "cell_type": "code",
   "execution_count": 24,
   "metadata": {},
   "outputs": [
    {
     "name": "stdout",
     "output_type": "stream",
     "text": [
      "Average infold validation accuracy:  LGBM 0 85.47\n",
      "Average infold validation accuracy:  LGBM 1 87.64\n",
      "Average infold validation accuracy:  LGBM 2 85.96\n",
      "Average infold validation accuracy:  LGBM 3 76.97\n",
      "Average infold validation accuracy:  LGBM 4 79.78\n",
      "Model:  LGBM\n",
      "Average validation accuracy:  83.16\n",
      "Training time (mins):  0.01\n",
      "\n"
     ]
    }
   ],
   "source": [
    "for key, classifier in classifiers.items():\n",
    "    start = time.time()\n",
    "\n",
    "    cv = StratifiedKFold(n_splits=FOLDS, shuffle=True, random_state=0)\n",
    "\n",
    "    score = 0\n",
    "    for fold, (train_idx, val_idx) in enumerate(cv.split(X, y)):\n",
    "        X_train, X_valid = X[train_idx], X[val_idx]\n",
    "        y_train, y_valid = y[train_idx], y[val_idx]\n",
    "\n",
    "        clf= classifier\n",
    "        clf.fit(X_train, y_train)\n",
    "\n",
    "        preds += clf.predict_proba(X_test)[:, 1]\n",
    "        preds_train += clf.predict_proba(X) [:, 1]\n",
    "        score += clf.score(X_valid, y_valid)\n",
    "        print(\n",
    "            \"Average infold validation accuracy: \",\n",
    "            key,\n",
    "            fold,\n",
    "            np.round(100 * clf.score(X_valid, y_valid), 2),\n",
    "        )\n",
    "    score = score / FOLDS\n",
    "    stop = time.time()\n",
    "    print(\"Model: \", key)\n",
    "    print(\"Average validation accuracy: \", np.round(100 * score, 2))\n",
    "    print(\"Training time (mins): \", np.round((stop-start) / 60, 2))\n",
    "    print(\"\")"
   ]
  },
  {
   "cell_type": "code",
   "execution_count": 25,
   "metadata": {},
   "outputs": [
    {
     "data": {
      "text/plain": [
       "0.8383838383838383"
      ]
     },
     "execution_count": 25,
     "metadata": {},
     "output_type": "execute_result"
    }
   ],
   "source": [
    "preds = preds / (FOLDS * len(classifiers))\n",
    "preds_train = preds_train / (FOLDS * len(classifiers))\n",
    "\n",
    "accuracy_score(y, preds_train > 0.5)"
   ]
  },
  {
   "cell_type": "code",
   "execution_count": null,
   "metadata": {},
   "outputs": [],
   "source": [
    "output = pd.DataFrame(\n",
    "    {\n",
    "        \"PassengerId\": test[\"PassengerId\"], \"Survived\": (preds>0.5).astype(int)\n",
    "    }\n",
    ")\n",
    "output.to_csv(\"submission.csv\", index=False)"
   ]
  },
  {
   "cell_type": "code",
   "execution_count": null,
   "metadata": {},
   "outputs": [],
   "source": []
  },
  {
   "cell_type": "code",
   "execution_count": null,
   "metadata": {},
   "outputs": [],
   "source": []
  }
 ],
 "metadata": {
  "kernelspec": {
   "display_name": "Python 3",
   "language": "python",
   "name": "python3"
  },
  "language_info": {
   "codemirror_mode": {
    "name": "ipython",
    "version": 3
   },
   "file_extension": ".py",
   "mimetype": "text/x-python",
   "name": "python",
   "nbconvert_exporter": "python",
   "pygments_lexer": "ipython3",
   "version": "3.9.6"
  },
  "orig_nbformat": 4,
  "vscode": {
   "interpreter": {
    "hash": "31f2aee4e71d21fbe5cf8b01ff0e069b9275f58929596ceb00d14d90e3e16cd6"
   }
  }
 },
 "nbformat": 4,
 "nbformat_minor": 2
}
